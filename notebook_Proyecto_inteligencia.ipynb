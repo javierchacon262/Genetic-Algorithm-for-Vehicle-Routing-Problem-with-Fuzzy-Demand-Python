{
 "cells": [
  {
   "cell_type": "code",
   "execution_count": 188,
   "metadata": {},
   "outputs": [],
   "source": [
    "import numpy as np\n",
    "import pandas as pd\n",
    "import matplotlib.pyplot as plt\n",
    "import scipy.io as sc\n",
    "import math as mt"
   ]
  },
  {
   "cell_type": "markdown",
   "metadata": {},
   "source": [
    "# Run "
   ]
  },
  {
   "cell_type": "code",
   "execution_count": 189,
   "metadata": {},
   "outputs": [
    {
     "data": {
      "text/plain": [
       "array([[array([[0.43871563]]), 0, 264, 435],\n",
       "       [array([[0.48075062]]), 4, 266, 422],\n",
       "       [array([[0.59054394]]), 3, 278, 424],\n",
       "       [array([[0.65741965]]), 2, 285, 427],\n",
       "       [array([[0.67530811]]), 1, 323, 413]], dtype=object)"
      ]
     },
     "execution_count": 189,
     "metadata": {},
     "output_type": "execute_result"
    }
   ],
   "source": [
    "#instances\n",
    "inst = sc.loadmat('gaskell325a.mat') #load instances\n",
    "Ix=np.transpose(inst['depotX'])\n",
    "Iy=np.transpose(inst['depotY'])\n",
    "Jx=np.transpose(inst['costumX'])\n",
    "Jy=np.transpose(inst['costumY'])\n",
    "depots = np.concatenate((Ix,Iy),axis=1)\n",
    "custom = np.concatenate((Jx,Jy),axis=1)\n",
    "#distances calculating \n",
    "E=[]\n",
    "sc=np.arange(np.shape(custom)[0])\n",
    "#distances equation\n",
    "travCF = lambda x1,y1,x2,y2: mt.sqrt((x1-x2)**2+(y1-y2)**2)\n",
    "for i in sc:\n",
    "    for j in sc:\n",
    "        if i!=j:\n",
    "            E.append([i,j,\n",
    "                           custom[i,0].tolist(),\n",
    "                           custom[i,1].tolist(),\n",
    "                           custom[j,0].tolist(),\n",
    "                           custom[j,1].tolist(),\n",
    "                           travCF(custom[i,0].astype(int),\n",
    "                                  custom[j,0].astype(int),\n",
    "                                  custom[i,1].astype(int),\n",
    "                                  custom[j,1].astype(int))])\n",
    "##############################################################################\n",
    "k=[]\n",
    "vehCap=inst['vehCap']\n",
    "depCap=inst['depCap']\n",
    "dems=np.transpose(inst['demands'])\n",
    "DepCaps=np.zeros(depots.shape[0])\n",
    "for i in range(depots.shape[0]):\n",
    "    DepCaps[i]=inst['depCap']\n",
    "depCost=inst['openDepCost']\n",
    "vehCost=0\n",
    "#############################################################################\n",
    "#phase 1: Depot ranking\n",
    "#sum of distances:\n",
    "#factor pi/(oi + wi)\n",
    "for i in range(depots.shape[0]):\n",
    "    dist=0\n",
    "    for j in range(custom.shape[0]):\n",
    "        dist= dist + travCF(depots[i,0].astype(int),depots[i,1].astype(int),custom[j,0].astype(int),custom[j,1].astype(int))\n",
    "    if i==0:\n",
    "        w=np.array([[dist]])\n",
    "        p=np.array([[(DepCaps[i]/(depCost*w[i])),i]])\n",
    "    else:\n",
    "        w=np.append(w,[[dist]],0)\n",
    "        p=np.append(p,[[(DepCaps[i]/(depCost*w[i])),i]],0)\n",
    "#order resulting p vector ascending \n",
    "ps=np.concatenate((p,depots),axis=1)\n",
    "index=np.argsort(ps,axis=0)\n",
    "ps[index[:,0]]"
   ]
  },
  {
   "cell_type": "code",
   "execution_count": null,
   "metadata": {},
   "outputs": [],
   "source": []
  },
  {
   "cell_type": "code",
   "execution_count": null,
   "metadata": {},
   "outputs": [],
   "source": []
  }
 ],
 "metadata": {
  "kernelspec": {
   "display_name": "Python 3",
   "language": "python",
   "name": "python3"
  },
  "language_info": {
   "codemirror_mode": {
    "name": "ipython",
    "version": 3
   },
   "file_extension": ".py",
   "mimetype": "text/x-python",
   "name": "python",
   "nbconvert_exporter": "python",
   "pygments_lexer": "ipython3",
   "version": "3.7.3"
  }
 },
 "nbformat": 4,
 "nbformat_minor": 2
}
